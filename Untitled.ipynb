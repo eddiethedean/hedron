{
 "cells": [
  {
   "cell_type": "code",
   "execution_count": 1,
   "metadata": {},
   "outputs": [],
   "source": [
    "# Test code for hedron project\n",
    "import pandas as pd\n",
    "import hedron as hd"
   ]
  },
  {
   "cell_type": "code",
   "execution_count": 2,
   "metadata": {},
   "outputs": [
    {
     "name": "stdout",
     "output_type": "stream",
     "text": [
      "3\n",
      "3\n",
      "2\n"
     ]
    }
   ],
   "source": [
    "def main():\n",
    "    # Load data into DataFrame\n",
    "    ids = ['a','b','c','d','e','f']\n",
    "    dates = pd.to_datetime(['Dec 6, 2019 2:27:45 PM', 'Dec 6, 2019 2:27:45 PM', 'Dec 8, 2019 2:27:45 PM', 'Dec 8, 2019 2:27:45 PM', 'Dec 10, 2019 2:27:45 PM', 'Dec 11, 2019 2:27:45 PM'])\n",
    "    lats = [29.4259671, 29.42525, 29.4237056, 29.423606, 29.4239835, 29.4239835]\n",
    "    lons = [-98.4861419, -98.4860167, -98.4868973, -98.4860462, -98.4851705, -98.4851705]\n",
    "    df = pd.DataFrame({'ID':ids, 'Date':dates, 'Latitude':lats, 'Longitude':lons})\n",
    "    # Check for headers\n",
    "    if not {'ID', 'Date', 'Latitude', 'Longitude'}.issubset(df.columns):\n",
    "        return print('Headers Missing')\n",
    "\n",
    "    # Load coordinate data into a Cluster object\n",
    "    c = hd.Cluster(df, lat_header='Latitude', lon_header='Longitude', date_time_header='Date', id_header='ID')\n",
    "\n",
    "    # Make coordinate clusters\n",
    "    clusters = c.make_clusters(3)\n",
    "    print(len(clusters))\n",
    "\n",
    "    # Filter clusters to colocation clusters\n",
    "    colocations = clusters.colocation_clusters()\n",
    "    print(len(colocations))\n",
    "\n",
    "    day_co = colocations.day_colocation_clusters()\n",
    "    print(len(day_co))\n",
    "\n",
    "\n",
    "if __name__ == '__main__':\n",
    "    main()\n"
   ]
  },
  {
   "cell_type": "code",
   "execution_count": null,
   "metadata": {},
   "outputs": [],
   "source": []
  }
 ],
 "metadata": {
  "kernelspec": {
   "display_name": "Python 3",
   "language": "python",
   "name": "python3"
  },
  "language_info": {
   "codemirror_mode": {
    "name": "ipython",
    "version": 3
   },
   "file_extension": ".py",
   "mimetype": "text/x-python",
   "name": "python",
   "nbconvert_exporter": "python",
   "pygments_lexer": "ipython3",
   "version": "3.7.4"
  }
 },
 "nbformat": 4,
 "nbformat_minor": 2
}
